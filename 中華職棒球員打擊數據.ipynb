{
  "nbformat": 4,
  "nbformat_minor": 0,
  "metadata": {
    "colab": {
      "provenance": [],
      "authorship_tag": "ABX9TyP0/bzryobQKKuMewuPy7+w",
      "include_colab_link": true
    },
    "kernelspec": {
      "name": "python3",
      "display_name": "Python 3"
    },
    "language_info": {
      "name": "python"
    }
  },
  "cells": [
    {
      "cell_type": "markdown",
      "metadata": {
        "id": "view-in-github",
        "colab_type": "text"
      },
      "source": [
        "<a href=\"https://colab.research.google.com/github/cool60334/side-project-python-basic/blob/main/%E4%B8%AD%E8%8F%AF%E8%81%B7%E6%A3%92%E7%90%83%E5%93%A1%E6%89%93%E6%93%8A%E6%95%B8%E6%93%9A.ipynb\" target=\"_parent\"><img src=\"https://colab.research.google.com/assets/colab-badge.svg\" alt=\"Open In Colab\"/></a>"
      ]
    },
    {
      "cell_type": "code",
      "execution_count": 4,
      "metadata": {
        "colab": {
          "base_uri": "https://localhost:8080/"
        },
        "id": "Q9O4U5F0LyR0",
        "outputId": "9c5ec31e-18ca-42f6-dd3f-c51f92b48c4b"
      },
      "outputs": [
        {
          "output_type": "stream",
          "name": "stdout",
          "text": [
            "Drive already mounted at /content/drive; to attempt to forcibly remount, call drive.mount(\"/content/drive\", force_remount=True).\n"
          ]
        }
      ],
      "source": [
        "import os\n",
        "from google.colab import drive\n",
        "drive.mount('/content/drive')"
      ]
    },
    {
      "cell_type": "code",
      "source": [
        "os.chdir('/content/drive/My Drive/練習用檔案') #切換該目錄\n",
        "os.listdir()"
      ],
      "metadata": {
        "colab": {
          "base_uri": "https://localhost:8080/"
        },
        "id": "xp4iKWYKQVwp",
        "outputId": "b936ed41-7cc2-4fbd-bc55-71b8572003ca"
      },
      "execution_count": 5,
      "outputs": [
        {
          "output_type": "execute_result",
          "data": {
            "text/plain": [
              "['五碼中獎號碼.txt',\n",
              " '五碼我的發票.txt',\n",
              " '我的發票.txt',\n",
              " '中獎號碼.txt',\n",
              " '地址資料.csv',\n",
              " '新地址資料.csv',\n",
              " '中華職棒球員打擊數據.csv']"
            ]
          },
          "metadata": {},
          "execution_count": 5
        }
      ]
    },
    {
      "cell_type": "code",
      "source": [
        "import csv\n",
        "from collections import Counter  # 計算次數\n",
        "\n",
        "with open(\"中華職棒球員打擊數據.csv\", encoding=\"utf-8-sig\") as infile:  # 打開檔案，encoding=\"utf-8-sig\" -> 避免前面出現亂碼\n",
        "  data = list(csv.DictReader(infile))  # DictReader可將csv資料讀取並轉換為字典型態\n",
        "  \n",
        "  # 找出同時達成10全壘打及10盜壘的人\n",
        "  \n",
        "  results = []\n",
        "\n",
        "  for e in data:\n",
        "    if int(e[\"全壘打\"]) >= 10 and int(e[\"盜壘\"]) >= 10:\n",
        "      results.append(e)  # [字典] -> 列表裡面包字典\n",
        "\n",
        "  # 計算共有幾人達成此成就\n",
        "\n",
        "  counts = Counter([e[\"姓名\"] for e in results])  # 用for取出列表裡每個字典，再從字典裡取姓名key的value\n",
        "  print(f\"共有 {len(counts)} 人達成此成就\")\n",
        "\n",
        "  # 取出達成此成就的前三人的姓名，達成次數\n",
        "\n",
        "  for r, p in enumerate(counts.most_common(3)):\n",
        "    name, times = p[0], p[1]\n",
        "    print(\"==================================================\")\n",
        "    print(f\"\\n第 {r+1} 名: 【{name}】 紀錄達成 {times}次\")\n",
        "\n",
        "    # 取出這三人達成紀錄的年度，全壘打次數，盜壘次數\n",
        "\n",
        "    for e in results:\n",
        "      if e[\"姓名\"] == name:\n",
        "        print(f\"達成年度: {e['年度']}年 - 全壘打數: {e['全壘打']}次 - 盜壘數: {e['盜壘']}次\")"
      ],
      "metadata": {
        "colab": {
          "base_uri": "https://localhost:8080/"
        },
        "id": "7yrrqJsQbU0W",
        "outputId": "3d4263cd-170a-48d0-f885-1372929a7d7b"
      },
      "execution_count": 6,
      "outputs": [
        {
          "output_type": "stream",
          "name": "stdout",
          "text": [
            "共有 50 人達成此成就\n",
            "==================================================\n",
            "\n",
            "第 1 名: 【林智勝】 紀錄達成 8次\n",
            "達成年度: 2004年 - 全壘打數: 11次 - 盜壘數: 13次\n",
            "達成年度: 2006年 - 全壘打數: 12次 - 盜壘數: 14次\n",
            "達成年度: 2008年 - 全壘打數: 11次 - 盜壘數: 11次\n",
            "達成年度: 2009年 - 全壘打數: 31次 - 盜壘數: 11次\n",
            "達成年度: 2010年 - 全壘打數: 21次 - 盜壘數: 12次\n",
            "達成年度: 2012年 - 全壘打數: 24次 - 盜壘數: 10次\n",
            "達成年度: 2014年 - 全壘打數: 11次 - 盜壘數: 14次\n",
            "達成年度: 2015年 - 全壘打數: 31次 - 盜壘數: 30次\n",
            "==================================================\n",
            "\n",
            "第 2 名: 【彭政閔】 紀錄達成 7次\n",
            "達成年度: 2002年 - 全壘打數: 18次 - 盜壘數: 16次\n",
            "達成年度: 2003年 - 全壘打數: 18次 - 盜壘數: 22次\n",
            "達成年度: 2004年 - 全壘打數: 18次 - 盜壘數: 26次\n",
            "達成年度: 2005年 - 全壘打數: 14次 - 盜壘數: 13次\n",
            "達成年度: 2007年 - 全壘打數: 21次 - 盜壘數: 12次\n",
            "達成年度: 2009年 - 全壘打數: 17次 - 盜壘數: 25次\n",
            "達成年度: 2013年 - 全壘打數: 10次 - 盜壘數: 15次\n",
            "==================================================\n",
            "\n",
            "第 3 名: 【張泰山】 紀錄達成 6次\n",
            "達成年度: 1998年 - 全壘打數: 14次 - 盜壘數: 27次\n",
            "達成年度: 1999年 - 全壘打數: 17次 - 盜壘數: 18次\n",
            "達成年度: 2000年 - 全壘打數: 11次 - 盜壘數: 11次\n",
            "達成年度: 2003年 - 全壘打數: 28次 - 盜壘數: 22次\n",
            "達成年度: 2004年 - 全壘打數: 21次 - 盜壘數: 14次\n",
            "達成年度: 2007年 - 全壘打數: 19次 - 盜壘數: 12次\n"
          ]
        }
      ]
    },
    {
      "cell_type": "markdown",
      "source": [
        "# Collections套件的Counter功能"
      ],
      "metadata": {
        "id": "nXJRAcBM4VJm"
      }
    },
    {
      "cell_type": "code",
      "source": [
        "# 計算每個數字或字串出現的次數\n",
        "\n",
        "from collections import Counter\n",
        "\n",
        "cnt = Counter([10, 20, 10, 20, 20, 25])\n",
        "\n",
        "print(cnt[10], cnt[20], cnt[25])  # 印出每個數字出現的次數\n",
        "print(cnt)  # 印出字典 {數字: 出現次數}"
      ],
      "metadata": {
        "colab": {
          "base_uri": "https://localhost:8080/"
        },
        "id": "ql20tqK31-t-",
        "outputId": "9d09780d-495f-4f8a-8a1a-d657f2439772"
      },
      "execution_count": 7,
      "outputs": [
        {
          "output_type": "stream",
          "name": "stdout",
          "text": [
            "2 3 1\n",
            "Counter({20: 3, 10: 2, 25: 1})\n"
          ]
        }
      ]
    },
    {
      "cell_type": "code",
      "source": [
        "# most_common() -> 出現最多次數的數字或字串，以及其出現次數 \n",
        "# 括號內填入2 -> 表示出現次數第一多及第二多的數字或字串，以及其出現次數\n",
        "\n",
        "cnt = Counter(['彭政閔', '黃忠義', '張泰山', '張泰山', '黃忠義', '張泰山', '張泰山'])\n",
        "\n",
        "top1 = cnt.most_common(1)\n",
        "print(top1)\n",
        "top2 = cnt.most_common(2)\n",
        "\n",
        "for i in top2:\n",
        "  print(i[0], i[1])"
      ],
      "metadata": {
        "colab": {
          "base_uri": "https://localhost:8080/"
        },
        "id": "J5btVhcw5A-b",
        "outputId": "952317e3-fa15-4c40-820e-07f859be1b8a"
      },
      "execution_count": 8,
      "outputs": [
        {
          "output_type": "stream",
          "name": "stdout",
          "text": [
            "[('張泰山', 4)]\n",
            "張泰山 4\n",
            "黃忠義 2\n"
          ]
        }
      ]
    }
  ]
}