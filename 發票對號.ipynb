{
  "nbformat": 4,
  "nbformat_minor": 0,
  "metadata": {
    "colab": {
      "provenance": [],
      "authorship_tag": "ABX9TyO6HSkEgarBSg23apew+8jd",
      "include_colab_link": true
    },
    "kernelspec": {
      "name": "python3",
      "display_name": "Python 3"
    },
    "language_info": {
      "name": "python"
    }
  },
  "cells": [
    {
      "cell_type": "markdown",
      "metadata": {
        "id": "view-in-github",
        "colab_type": "text"
      },
      "source": [
        "<a href=\"https://colab.research.google.com/github/cool60334/side-project-python-basic/blob/main/%E7%99%BC%E7%A5%A8%E5%B0%8D%E8%99%9F.ipynb\" target=\"_parent\"><img src=\"https://colab.research.google.com/assets/colab-badge.svg\" alt=\"Open In Colab\"/></a>"
      ]
    },
    {
      "cell_type": "code",
      "execution_count": null,
      "metadata": {
        "colab": {
          "base_uri": "https://localhost:8080/"
        },
        "id": "Q9O4U5F0LyR0",
        "outputId": "9edbac72-a6de-4be1-9f0d-bbfc92ff639f"
      },
      "outputs": [
        {
          "output_type": "stream",
          "name": "stdout",
          "text": [
            "Mounted at /content/drive\n"
          ]
        }
      ],
      "source": [
        "import os\n",
        "from google.colab import drive\n",
        "drive.mount('/content/drive')\n"
      ]
    },
    {
      "cell_type": "code",
      "source": [
        "os.chdir('/content/drive/My Drive/練習用檔案') #切換該目錄\n",
        "os.listdir()"
      ],
      "metadata": {
        "colab": {
          "base_uri": "https://localhost:8080/"
        },
        "id": "xp4iKWYKQVwp",
        "outputId": "ce01eb98-c00b-4a69-e703-eaf01839a49c"
      },
      "execution_count": null,
      "outputs": [
        {
          "output_type": "execute_result",
          "data": {
            "text/plain": [
              "['五碼中獎號碼.txt', '五碼我的發票.txt', '我的發票.txt', '中獎號碼.txt']"
            ]
          },
          "metadata": {},
          "execution_count": 2
        }
      ]
    },
    {
      "cell_type": "markdown",
      "source": [
        "# 發票對號一\n",
        "功能\n",
        "1.   比對三位數發票號碼\n",
        "2.   顯示中獎發票號碼\n",
        "3.   統計中獎總張數、中獎總金額"
      ],
      "metadata": {
        "id": "cN4LTpgBVPdq"
      }
    },
    {
      "cell_type": "code",
      "source": [
        "win = open(\"中獎號碼.txt\", encoding=\"utf-8\").read().split()\n",
        "mine = open(\"我的發票.txt\", encoding=\"utf-8\").read().split()"
      ],
      "metadata": {
        "id": "rXGpzxFnNwpd"
      },
      "execution_count": null,
      "outputs": []
    },
    {
      "cell_type": "code",
      "source": [
        "t = 0  # 計算中獎張數\n",
        "\n",
        "for i, num in enumerate(mine):\n",
        "  if num in win:\n",
        "    print(f\"第 {i+1} 個號碼 {num} 中獎了！\")\n",
        "    t += 1\n",
        "\n",
        "print(f\"總共中 {t} 張發票, 總金額 {t * 200} 元\")"
      ],
      "metadata": {
        "colab": {
          "base_uri": "https://localhost:8080/"
        },
        "id": "p7-npIsxROh1",
        "outputId": "e6721c70-38ea-4a22-b7ea-341eb0578d9a"
      },
      "execution_count": null,
      "outputs": [
        {
          "output_type": "stream",
          "name": "stdout",
          "text": [
            "第 4 個號碼 847 中獎了！\n",
            "第 6 個號碼 187 中獎了！\n",
            "總共中 2 張發票, 總金額 400 元\n"
          ]
        }
      ]
    },
    {
      "cell_type": "markdown",
      "source": [
        "# 發票對號二\n",
        "功能\n",
        "1.   比對三到五位數發票號碼(New)\n",
        "2.   顯示中獎發票號碼，及其中獎金額(New)\n",
        "3.   統計中獎總張數、中獎總金額"
      ],
      "metadata": {
        "id": "USqD0ZyZVZf0"
      }
    },
    {
      "cell_type": "code",
      "source": [
        "win5 = open(\"五碼中獎號碼.txt\", encoding=\"utf-8\").read().split()\n",
        "mine5 = open(\"五碼我的發票.txt\", encoding=\"utf-8\").read().split()"
      ],
      "metadata": {
        "id": "worTsGFyVdxX"
      },
      "execution_count": null,
      "outputs": []
    },
    {
      "cell_type": "code",
      "source": [
        "m = 0  # 計算中獎金額\n",
        "t = 0  # 計算中獎張數\n",
        "\n",
        "for i, num in enumerate(mine5):\n",
        "  for win_num in win5:\n",
        "    if num[-5:] == win_num[-5:]:\n",
        "      print(f\"第 {i+1} 個號碼 {num[-5:]} 對中五個號碼，獲得4000元！\")\n",
        "      m += 4000\n",
        "      t += 1\n",
        "    elif num[-4:] == win_num[-4:]:\n",
        "      print(f\"第 {i+1} 個號碼 {num[-4:]} 對中四個號碼，獲得1000元！\")\n",
        "      m += 1000\n",
        "      t += 1\n",
        "    elif num[-3:] == win_num[-3:]:\n",
        "      print(f\"第 {i+1} 個號碼 {num[-3:]} 對中三個號碼，獲得200元！\")\n",
        "      m += 200\n",
        "      t += 1\n",
        "\n",
        "print(f\"總共中 {t} 張發票, 獲得 {m} 元\")"
      ],
      "metadata": {
        "colab": {
          "base_uri": "https://localhost:8080/"
        },
        "id": "8TTyTSSoX9So",
        "outputId": "2ccfc1c4-de86-413c-8c38-3b4d81cfa91d"
      },
      "execution_count": null,
      "outputs": [
        {
          "output_type": "stream",
          "name": "stdout",
          "text": [
            "第 4 個號碼 847 對中三個號碼，獲得200元！\n",
            "第 6 個號碼 6847 對中四個號碼，獲得1000元！\n",
            "第 7 個號碼 187 對中三個號碼，獲得200元！\n",
            "第 9 個號碼 16847 對中五個號碼，獲得4000元！\n",
            "第 11 個號碼 0537 對中四個號碼，獲得1000元！\n",
            "總共中 5 張發票, 獲得 6400 元\n"
          ]
        }
      ]
    },
    {
      "cell_type": "markdown",
      "source": [
        "# 發票對號二(進階版)\n",
        "功能\n",
        "1.   比對多位數發票號碼(New)\n",
        "2.   選擇中獎金額最高的獎項(New)\n",
        "3.   顯示中獎發票號碼，及其中獎金額\n",
        "4.   統計中獎總金額"
      ],
      "metadata": {
        "id": "4kSkEjcHU04K"
      }
    },
    {
      "cell_type": "code",
      "source": [
        "win5 = open(\"五碼中獎號碼.txt\", encoding=\"utf-8\").read().split()\n",
        "mine5 = open(\"五碼我的發票.txt\", encoding=\"utf-8\").read().split()\n",
        "\n",
        "m = 0  # 計算中獎金額\n",
        "t = 0  # 計算中獎張數\n",
        "\n",
        "for n in range(-5, -2):\n",
        "  for i, num in enumerate(mine5):\n",
        "    for win_num in win5:\n",
        "    \n",
        "      if num[n:] == win_num[n:]:\n",
        "        \n",
        "        if -n == 5:\n",
        "          m += 4000\n",
        "          t += 1\n",
        "        elif -n == 4:\n",
        "          m += 1000\n",
        "          t += 1\n",
        "        elif -n == 3:\n",
        "          m += 200\n",
        "          t += 1\n",
        "        \n",
        "        print(f\"第 {i+1} 個號碼 {num[n:]} 對中 {-n} 個號碼，累計獲得{m}元！\")\n",
        "        mine5[i] = mine5[i] + \"已中獎\"\n",
        "        \n",
        "\n",
        "      \n",
        "print(f\"總共中 {t} 張發票, 獲得 {m} 元\")"
      ],
      "metadata": {
        "colab": {
          "base_uri": "https://localhost:8080/"
        },
        "id": "kLrL4wrEcvWA",
        "outputId": "dafa3567-5b6f-4f85-afdc-93a0aa3b0418"
      },
      "execution_count": null,
      "outputs": [
        {
          "output_type": "stream",
          "name": "stdout",
          "text": [
            "第 9 個號碼 16847 對中 5 個號碼，累計獲得4000元！\n",
            "第 6 個號碼 6847 對中 4 個號碼，累計獲得5000元！\n",
            "第 11 個號碼 0537 對中 4 個號碼，累計獲得6000元！\n",
            "第 4 個號碼 847 對中 3 個號碼，累計獲得6200元！\n",
            "第 7 個號碼 187 對中 3 個號碼，累計獲得6400元！\n",
            "總共中 5 張發票, 獲得 6400 元\n"
          ]
        }
      ]
    },
    {
      "cell_type": "markdown",
      "source": [
        "# 未來更新\n",
        "爬取統一發票開獎網頁，即時更新當期中獎號碼"
      ],
      "metadata": {
        "id": "OVqtnqhJW3zs"
      }
    },
    {
      "cell_type": "markdown",
      "source": [
        "# Source：推動大學程式設計教學計畫\n",
        "## [網站](https://plusdscp.csie.ntnu.edu.tw/index.php/demonstration/python60/?fbclid=IwAR2iKFqVgZ4ZMhIWDyTq26SywnL4MTPSl47pqGANFqg9w9uaZZDcnMsPmHc)\n",
        "## [YouTube](https://www.youtube.com/watch?v=zaejPJPx_a0&list=WL&index=2&t=3576s&ab_channel=GrandmaCan-%E6%88%91%E9%98%BF%E5%AC%A4%E9%83%BD%E6%9C%83)"
      ],
      "metadata": {
        "id": "QQQB3f8WXDYN"
      }
    }
  ]
}