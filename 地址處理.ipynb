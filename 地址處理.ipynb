{
  "nbformat": 4,
  "nbformat_minor": 0,
  "metadata": {
    "colab": {
      "provenance": [],
      "authorship_tag": "ABX9TyP4bQl1OvdEJrdboJ8O41N8",
      "include_colab_link": true
    },
    "kernelspec": {
      "name": "python3",
      "display_name": "Python 3"
    },
    "language_info": {
      "name": "python"
    }
  },
  "cells": [
    {
      "cell_type": "markdown",
      "metadata": {
        "id": "view-in-github",
        "colab_type": "text"
      },
      "source": [
        "<a href=\"https://colab.research.google.com/github/cool60334/side-project-python-basic/blob/main/%E5%9C%B0%E5%9D%80%E8%99%95%E7%90%86.ipynb\" target=\"_parent\"><img src=\"https://colab.research.google.com/assets/colab-badge.svg\" alt=\"Open In Colab\"/></a>"
      ]
    },
    {
      "cell_type": "code",
      "execution_count": 29,
      "metadata": {
        "colab": {
          "base_uri": "https://localhost:8080/"
        },
        "id": "Q9O4U5F0LyR0",
        "outputId": "2fc51b4e-4355-454d-cd53-6366f81a9ac3"
      },
      "outputs": [
        {
          "output_type": "stream",
          "name": "stdout",
          "text": [
            "Drive already mounted at /content/drive; to attempt to forcibly remount, call drive.mount(\"/content/drive\", force_remount=True).\n"
          ]
        }
      ],
      "source": [
        "import os\n",
        "from google.colab import drive\n",
        "drive.mount('/content/drive')"
      ]
    },
    {
      "cell_type": "code",
      "source": [
        "os.chdir('/content/drive/My Drive/練習用檔案') #切換該目錄\n",
        "os.listdir()"
      ],
      "metadata": {
        "colab": {
          "base_uri": "https://localhost:8080/"
        },
        "id": "xp4iKWYKQVwp",
        "outputId": "8c18d42d-4782-4483-e6e4-8a0ab6d65659"
      },
      "execution_count": 30,
      "outputs": [
        {
          "output_type": "execute_result",
          "data": {
            "text/plain": [
              "['五碼中獎號碼.txt', '五碼我的發票.txt', '我的發票.txt', '中獎號碼.txt', '地址資料.csv']"
            ]
          },
          "metadata": {},
          "execution_count": 30
        }
      ]
    },
    {
      "cell_type": "markdown",
      "source": [
        "# 載入csv資料並修改"
      ],
      "metadata": {
        "id": "dSFC6YRZwOqx"
      }
    },
    {
      "cell_type": "code",
      "source": [
        "import csv\n",
        "\n",
        "with open(\"地址資料.csv\", encoding=\"utf-8-sig\") as infile:  # 打開檔案，encoding=\"utf-8-sig\" -> 避免前面出現亂碼\n",
        "  data = list(csv.DictReader(infile))  # DictReader可將csv資料讀取並轉換為字典型態\n",
        "  \n",
        "  for e in data:\n",
        "    print(\"原始資料:\", e[\"姓名\"], e[\"縣市\"], e[\"住址\"])\n",
        "\n",
        "    if e[\"縣市\"][0] == \"台\":\n",
        "      e[\"縣市\"] = \"臺\" + e[\"縣市\"][1:]\n",
        "    \n",
        "    if \"F\" in e[\"住址\"]:\n",
        "      # e[\"住址\"] = e[\"住址\"][:-1] + \"樓\"\n",
        "      e[\"住址\"] = e[\"住址\"].replace(\"F\", \"樓\")\n",
        "\n",
        "    if e[\"縣市\"] == \"臺中市\" and \"中港路\" in e[\"住址\"]:\n",
        "      # e[\"住址\"] = \"臺灣大道\" + e[\"住址\"][3:]\n",
        "      e[\"住址\"] = e[\"住址\"].replace(\"中港路\", \"臺灣大道\")\n",
        "    \n",
        "    print(\"*更新資料:\", e[\"姓名\"], e[\"縣市\"], e[\"住址\"])\n"
      ],
      "metadata": {
        "colab": {
          "base_uri": "https://localhost:8080/"
        },
        "id": "7yrrqJsQbU0W",
        "outputId": "100742db-71fc-47db-b0eb-617112de753c"
      },
      "execution_count": 31,
      "outputs": [
        {
          "output_type": "stream",
          "name": "stdout",
          "text": [
            "原始資料: 陳大明 台北市 汀州路四段88號\n",
            "*更新資料: 陳大明 臺北市 汀州路四段88號\n",
            "原始資料: 張小華 臺北市 和平東路一段162號\n",
            "*更新資料: 張小華 臺北市 和平東路一段162號\n",
            "原始資料: 李國華 台北市 復興南路一段6號8樓\n",
            "*更新資料: 李國華 臺北市 復興南路一段6號8樓\n",
            "原始資料: 朱志清 台中市 大仁路38巷4號5F\n",
            "*更新資料: 朱志清 臺中市 大仁路38巷4號5樓\n",
            "原始資料: 朱婷婷 台中市 中港路29號2樓\n",
            "*更新資料: 朱婷婷 臺中市 臺灣大道29號2樓\n",
            "原始資料: 周杰倫 台南市 中港路四段390-1號\n",
            "*更新資料: 周杰倫 臺南市 中港路四段390-1號\n",
            "原始資料: 劉德明 高雄市 三多路49巷2弄1號14F\n",
            "*更新資料: 劉德明 高雄市 三多路49巷2弄1號14樓\n",
            "原始資料: 紀小月 台東市 中台五路95號\n",
            "*更新資料: 紀小月 臺東市 中台五路95號\n"
          ]
        }
      ]
    },
    {
      "cell_type": "markdown",
      "source": [
        "# 寫入資料並儲存為csv檔"
      ],
      "metadata": {
        "id": "NtkZC2dar_P3"
      }
    },
    {
      "cell_type": "code",
      "source": [
        "# 打開檔案\n",
        "# \"w\" -> 表示將資料寫入此檔案\n",
        "# newline=\"\" -> 可解決換行可能產生的問題\n",
        "\n",
        "with open(\"新地址資料.csv\", \"w\", newline=\"\", encoding=\"utf-8-sig\") as outfile:\n",
        "\n",
        "  # DictWriter可將資料寫入csv檔\n",
        "  # outfile -> 要寫入的檔案\n",
        "  # fieldnames = data[0].keys() -> 表示設定欄位名稱，取第一筆資料的key值當欄位名稱\n",
        "\n",
        "  writer = csv.DictWriter(outfile, fieldnames = data[0].keys())  \n",
        "\n",
        "\n",
        "  # 在檔案中寫入欄位名稱\n",
        "\n",
        "  writer.writeheader() \n",
        "  \n",
        "  # writerow(e) -> 將data中的資料一列一列寫入outfile\n",
        "  \n",
        "  for e in data:\n",
        "    writer.writerow(e)"
      ],
      "metadata": {
        "id": "CEC16z6bq9Dg"
      },
      "execution_count": 33,
      "outputs": []
    },
    {
      "cell_type": "markdown",
      "source": [
        "# 字典功能"
      ],
      "metadata": {
        "id": "0xdlhpUVq6rn"
      }
    },
    {
      "cell_type": "code",
      "source": [
        "with open(\"地址資料.csv\", encoding=\"utf-8-sig\") as infile:\n",
        "  data = list(csv.DictReader(infile))  # DictReader可將csv資料轉換為字典型態\n",
        "\n",
        "dict1 = data[0]  # 字典\n",
        "\n",
        "# 取出字典的keys\n",
        "for k in dict1.keys():\n",
        "  print(k)\n",
        "\n",
        "# 取出字典的values\n",
        "for v in dict1.values():\n",
        "  print(v)\n",
        "\n",
        "# 取出字典的keys, values\n",
        "for k in dict1:\n",
        "  print(k, dict1[k])"
      ],
      "metadata": {
        "colab": {
          "base_uri": "https://localhost:8080/"
        },
        "id": "8XB4v_HopDAo",
        "outputId": "f84b1e1c-3b8d-444d-e70a-a75fae53f9bb"
      },
      "execution_count": 23,
      "outputs": [
        {
          "output_type": "stream",
          "name": "stdout",
          "text": [
            "姓名\n",
            "縣市\n",
            "住址\n",
            "陳大明\n",
            "台北市\n",
            "汀州路四段88號\n",
            "姓名 陳大明\n",
            "縣市 台北市\n",
            "住址 汀州路四段88號\n"
          ]
        }
      ]
    },
    {
      "cell_type": "markdown",
      "source": [
        "# Source：推動大學程式設計教學計畫\n",
        "## [網站](https://plusdscp.csie.ntnu.edu.tw/index.php/demonstration/python60/?fbclid=IwAR2iKFqVgZ4ZMhIWDyTq26SywnL4MTPSl47pqGANFqg9w9uaZZDcnMsPmHc)\n",
        "## [YouTube](https://www.youtube.com/watch?v=zaejPJPx_a0&list=WL&index=2&t=3576s&ab_channel=GrandmaCan-%E6%88%91%E9%98%BF%E5%AC%A4%E9%83%BD%E6%9C%83)"
      ],
      "metadata": {
        "id": "QQQB3f8WXDYN"
      }
    }
  ]
}