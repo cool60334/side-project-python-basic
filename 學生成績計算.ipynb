{
  "nbformat": 4,
  "nbformat_minor": 0,
  "metadata": {
    "colab": {
      "provenance": [],
      "authorship_tag": "ABX9TyMnXwyQADh3Ppbh/QUwIDh7",
      "include_colab_link": true
    },
    "kernelspec": {
      "name": "python3",
      "display_name": "Python 3"
    },
    "language_info": {
      "name": "python"
    }
  },
  "cells": [
    {
      "cell_type": "markdown",
      "metadata": {
        "id": "view-in-github",
        "colab_type": "text"
      },
      "source": [
        "<a href=\"https://colab.research.google.com/github/cool60334/side-project-python-basic/blob/main/%E5%AD%B8%E7%94%9F%E6%88%90%E7%B8%BE%E8%A8%88%E7%AE%97.ipynb\" target=\"_parent\"><img src=\"https://colab.research.google.com/assets/colab-badge.svg\" alt=\"Open In Colab\"/></a>"
      ]
    },
    {
      "cell_type": "code",
      "execution_count": 1,
      "metadata": {
        "colab": {
          "base_uri": "https://localhost:8080/"
        },
        "id": "Q9O4U5F0LyR0",
        "outputId": "78bbbe11-8968-4ba4-acf9-b6c8845ab4a0"
      },
      "outputs": [
        {
          "output_type": "stream",
          "name": "stdout",
          "text": [
            "Mounted at /content/drive\n"
          ]
        }
      ],
      "source": [
        "import os\n",
        "from google.colab import drive\n",
        "drive.mount('/content/drive')"
      ]
    },
    {
      "cell_type": "code",
      "source": [
        "os.chdir('/content/drive/My Drive/練習用檔案') #切換該目錄\n",
        "os.listdir()"
      ],
      "metadata": {
        "colab": {
          "base_uri": "https://localhost:8080/"
        },
        "id": "xp4iKWYKQVwp",
        "outputId": "e503245f-5915-488c-f3ac-995a594579e1"
      },
      "execution_count": 2,
      "outputs": [
        {
          "output_type": "execute_result",
          "data": {
            "text/plain": [
              "['五碼中獎號碼.txt',\n",
              " '五碼我的發票.txt',\n",
              " '我的發票.txt',\n",
              " '中獎號碼.txt',\n",
              " '地址資料.csv',\n",
              " '新地址資料.csv',\n",
              " '中華職棒球員打擊數據.csv',\n",
              " '學生成績.csv']"
            ]
          },
          "metadata": {},
          "execution_count": 2
        }
      ]
    },
    {
      "cell_type": "markdown",
      "source": [
        "# 載入成績csv檔案，計算總分\n",
        "\n",
        "\n",
        "*   期中分數 * 20%\n",
        "*   期末分數 * 30%\n",
        "*   作業分數取前兩高分數計算平均 * 50%\n",
        "\n"
      ],
      "metadata": {
        "id": "RfpDQYCVzvC8"
      }
    },
    {
      "cell_type": "code",
      "source": [
        "results = []\n",
        "\n",
        "with open(\"學生成績.csv\", encoding = \"utf-8-sig\") as infile:\n",
        "  data = infile.read().split()  # data是一個list型態\n",
        "\n",
        "\n",
        "  for e in data[1:]:  # 從data中的第二資料開始是姓名加各種成績\n",
        "    stu = e.split(\",\")  # 以逗號為基準切分成list型態 -> [姓名, 成績一, 成績二, ...]\n",
        "    scores = [int(sc) for sc in stu[1:]]  # 將stu中的成績取出，並轉為整數型態\n",
        "\n",
        "\n",
        "    exams = scores[3] * 0.2 + scores[4] * 0.3  # 期中分數20%， 期末分數30%\n",
        "\n",
        "    # 分行寫\n",
        "    all_hw = sorted(scores[0:3])  # 取出三個作業分數，並由小到大排列\n",
        "    hw = sum(all_hw[1:])/2  # 取出前兩高的作業分數，並計算平均\n",
        "\n",
        "    # 寫成一行\n",
        "    # hw = sum(sorted(scores[0:3])[1:])/2\n",
        "\n",
        "\n",
        "    final = round(hw * 0.5 + exams, 2)  # 計算總成績，取到小數第二位\n",
        "\n",
        "    print(f\"學生姓名:{stu[0]} - 各別分數:{scores} - 作業平均分數:{hw} - 總分:{final}\")\n",
        "\n",
        "    stu.append(final)  # 將總分加入stu list的最後面\n",
        "    results.append(stu)  # 將stu加入到results list裡\n"
      ],
      "metadata": {
        "colab": {
          "base_uri": "https://localhost:8080/"
        },
        "id": "mY66NIhL_Kfb",
        "outputId": "ed573ce6-9699-4097-c914-4af8dddedd62"
      },
      "execution_count": 10,
      "outputs": [
        {
          "output_type": "stream",
          "name": "stdout",
          "text": [
            "學生姓名:賴一梅 - 各別分數:[100, 90, 100, 80, 85] - 作業平均分數:100.0 - 總分:91.5\n",
            "學生姓名:陳二哥 - 各別分數:[90, 90, 100, 90, 60] - 作業平均分數:95.0 - 總分:83.5\n",
            "學生姓名:張三豐 - 各別分數:[30, 40, 100, 50, 70] - 作業平均分數:70.0 - 總分:66.0\n",
            "學生姓名:李四瑞 - 各別分數:[60, 70, 90, 80, 90] - 作業平均分數:80.0 - 總分:83.0\n",
            "學生姓名:王五郎 - 各別分數:[99, 99, 80, 99, 80] - 作業平均分數:99.0 - 總分:93.3\n",
            "學生姓名:錢六順 - 各別分數:[88, 88, 100, 88, 60] - 作業平均分數:94.0 - 總分:82.6\n",
            "學生姓名:孫七天 - 各別分數:[100, 100, 100, 0, 100] - 作業平均分數:100.0 - 總分:80.0\n",
            "學生姓名:朱八解 - 各別分數:[100, 0, 100, 100, 100] - 作業平均分數:100.0 - 總分:100.0\n"
          ]
        }
      ]
    },
    {
      "cell_type": "code",
      "source": [
        "results"
      ],
      "metadata": {
        "colab": {
          "base_uri": "https://localhost:8080/"
        },
        "id": "v7_Rqnk4_x09",
        "outputId": "51128c7f-5d5c-4c6b-fbe0-bb6e10a63a78"
      },
      "execution_count": 11,
      "outputs": [
        {
          "output_type": "execute_result",
          "data": {
            "text/plain": [
              "[['賴一梅', '100', '90', '100', '80', '85', 91.5],\n",
              " ['陳二哥', '90', '90', '100', '90', '60', 83.5],\n",
              " ['張三豐', '30', '40', '100', '50', '70', 66.0],\n",
              " ['李四瑞', '60', '70', '90', '80', '90', 83.0],\n",
              " ['王五郎', '99', '99', '80', '99', '80', 93.3],\n",
              " ['錢六順', '88', '88', '100', '88', '60', 82.6],\n",
              " ['孫七天', '100', '100', '100', '0', '100', 80.0],\n",
              " ['朱八解', '100', '0', '100', '100', '100', 100.0]]"
            ]
          },
          "metadata": {},
          "execution_count": 11
        }
      ]
    },
    {
      "cell_type": "markdown",
      "source": [
        "# 輸出檔案"
      ],
      "metadata": {
        "id": "pK7I4TsK1FpS"
      }
    },
    {
      "cell_type": "code",
      "source": [
        "with open(\"新成績檔案.csv\", \"w\", encoding = \"utf-8-sig\") as outfile:\n",
        "  outfile.write(data[0] + \",總成績\\n\")  # 取出原本的欄位名稱，並在後面加上總成績欄位\n",
        "  for stu in results:\n",
        "    outfile.write(\",\".join([str(e) for e in stu]) + \"\\n\")  # 將results中的每個學生成績取出，將所有資料都改為字串，並用\",\"隔開"
      ],
      "metadata": {
        "id": "2vedI8tKzRvl"
      },
      "execution_count": 12,
      "outputs": []
    }
  ]
}